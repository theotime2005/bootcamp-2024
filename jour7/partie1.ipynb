{
 "cells": [
  {
   "cell_type": "markdown",
   "id": "7346d0c0",
   "metadata": {},
   "source": [
    "# Markdown\n",
    "This is a markdown text"
   ]
  },
  {
   "cell_type": "code",
   "id": "baf0d71f",
   "metadata": {
    "vscode": {
     "languageId": "plaintext"
    },
    "ExecuteTime": {
     "end_time": "2024-09-11T08:44:19.762253Z",
     "start_time": "2024-09-11T08:44:19.758696Z"
    }
   },
   "source": [
    "\"Hello world\""
   ],
   "outputs": [
    {
     "data": {
      "text/plain": [
       "'Hello world'"
      ]
     },
     "execution_count": 7,
     "metadata": {},
     "output_type": "execute_result"
    }
   ],
   "execution_count": 7
  },
  {
   "cell_type": "code",
   "id": "0403f9a3",
   "metadata": {
    "vscode": {
     "languageId": "plaintext"
    },
    "ExecuteTime": {
     "end_time": "2024-09-11T08:44:19.840851Z",
     "start_time": "2024-09-11T08:44:19.838807Z"
    }
   },
   "source": [
    "my_list=[1,2,3,4,5]"
   ],
   "outputs": [],
   "execution_count": 8
  },
  {
   "cell_type": "code",
   "id": "255e5e4c",
   "metadata": {
    "vscode": {
     "languageId": "plaintext"
    },
    "ExecuteTime": {
     "end_time": "2024-09-11T08:44:19.853376Z",
     "start_time": "2024-09-11T08:44:19.850262Z"
    }
   },
   "source": [
    "(sum(my_list), sum(my_list)/len(my_list), sorted(my_list)[0], sorted(my_list)[-1])"
   ],
   "outputs": [
    {
     "data": {
      "text/plain": [
       "(15, 3.0, 1, 5)"
      ]
     },
     "execution_count": 9,
     "metadata": {},
     "output_type": "execute_result"
    }
   ],
   "execution_count": 9
  }
 ],
 "metadata": {
  "kernelspec": {
   "display_name": "Python 3 (ipykernel)",
   "language": "python",
   "name": "python3"
  },
  "language_info": {
   "codemirror_mode": {
    "name": "ipython",
    "version": 3
   },
   "file_extension": ".py",
   "mimetype": "text/x-python",
   "name": "python",
   "nbconvert_exporter": "python",
   "pygments_lexer": "ipython3",
   "version": "3.12.1"
  }
 },
 "nbformat": 4,
 "nbformat_minor": 5
}
