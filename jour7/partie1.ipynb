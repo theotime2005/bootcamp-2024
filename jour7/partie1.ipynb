{
 "cells": [
  {
   "cell_type": "markdown",
   "id": "7346d0c0",
   "metadata": {},
   "source": [
    "# Markdown\n",
    "This is a markdown text"
   ]
  },
  {
   "cell_type": "code",
   "execution_count": 7,
   "id": "baf0d71f",
   "metadata": {
    "ExecuteTime": {
     "end_time": "2024-09-11T08:44:19.762253Z",
     "start_time": "2024-09-11T08:44:19.758696Z"
    }
   },
   "outputs": [
    {
     "data": {
      "text/plain": [
       "'Hello world'"
      ]
     },
     "execution_count": 7,
     "metadata": {},
     "output_type": "execute_result"
    }
   ],
   "source": [
    "\"Hello world\""
   ]
  },
  {
   "cell_type": "code",
   "execution_count": 8,
   "id": "0403f9a3",
   "metadata": {
    "ExecuteTime": {
     "end_time": "2024-09-11T08:44:19.840851Z",
     "start_time": "2024-09-11T08:44:19.838807Z"
    }
   },
   "outputs": [
    {
     "name": "stdout",
     "output_type": "stream",
     "text": [
      "[287]\n"
     ]
    }
   ],
   "source": [
    "from random import randint\n",
    "\n",
    "my_list=[]\n",
    "\n",
    "count = randint(0,100)\n",
    "\n",
    "for i in range(count):\n",
    "    my_list.append(randint(0,1000))\n",
    "print(my_list)"
   ]
  },
  {
   "cell_type": "markdown",
   "id": "4cb4fc93",
   "metadata": {},
   "source": [
    "## On affiche les éléments suivants:\n",
    "- Somme,\n",
    "- Moyenne avec 1 chiffre après la virgule,\n",
    "- Minimum,\n",
    "- Maximum"
   ]
  },
  {
   "cell_type": "code",
   "execution_count": 9,
   "id": "255e5e4c",
   "metadata": {
    "ExecuteTime": {
     "end_time": "2024-09-11T08:44:19.853376Z",
     "start_time": "2024-09-11T08:44:19.850262Z"
    }
   },
   "outputs": [
    {
     "name": "stdout",
     "output_type": "stream",
     "text": [
      "(287, 287.0, 287, 287)\n"
     ]
    }
   ],
   "source": [
    "informations = (sum(my_list), round(sum(my_list)/len(my_list), 1), sorted(my_list)[0], sorted(my_list)[-1])\n",
    "print(informations)"
   ]
  },
  {
   "cell_type": "code",
   "execution_count": 10,
   "id": "1561a9ed",
   "metadata": {},
   "outputs": [
    {
     "name": "stdout",
     "output_type": "stream",
     "text": [
      "CPU times: user 23.7 ms, sys: 3.36 ms, total: 27 ms\n",
      "Wall time: 31.2 ms\n"
     ]
    },
    {
     "data": {
      "text/html": [
       "<div>\n",
       "<style scoped>\n",
       "    .dataframe tbody tr th:only-of-type {\n",
       "        vertical-align: middle;\n",
       "    }\n",
       "\n",
       "    .dataframe tbody tr th {\n",
       "        vertical-align: top;\n",
       "    }\n",
       "\n",
       "    .dataframe thead th {\n",
       "        text-align: right;\n",
       "    }\n",
       "</style>\n",
       "<table border=\"1\" class=\"dataframe\">\n",
       "  <thead>\n",
       "    <tr style=\"text-align: right;\">\n",
       "      <th></th>\n",
       "      <th>FL_DATE</th>\n",
       "      <th>DEP_DELAY</th>\n",
       "      <th>ARR_DELAY</th>\n",
       "      <th>AIR_TIME</th>\n",
       "      <th>DISTANCE</th>\n",
       "      <th>DEP_TIME</th>\n",
       "      <th>ARR_TIME</th>\n",
       "    </tr>\n",
       "  </thead>\n",
       "  <tbody>\n",
       "    <tr>\n",
       "      <th>0</th>\n",
       "      <td>2006-01-01</td>\n",
       "      <td>5</td>\n",
       "      <td>19</td>\n",
       "      <td>350</td>\n",
       "      <td>2475</td>\n",
       "      <td>9.083333</td>\n",
       "      <td>12.483334</td>\n",
       "    </tr>\n",
       "    <tr>\n",
       "      <th>1</th>\n",
       "      <td>2006-01-02</td>\n",
       "      <td>167</td>\n",
       "      <td>216</td>\n",
       "      <td>343</td>\n",
       "      <td>2475</td>\n",
       "      <td>11.783334</td>\n",
       "      <td>15.766666</td>\n",
       "    </tr>\n",
       "    <tr>\n",
       "      <th>2</th>\n",
       "      <td>2006-01-03</td>\n",
       "      <td>-7</td>\n",
       "      <td>-2</td>\n",
       "      <td>344</td>\n",
       "      <td>2475</td>\n",
       "      <td>8.883333</td>\n",
       "      <td>12.133333</td>\n",
       "    </tr>\n",
       "    <tr>\n",
       "      <th>3</th>\n",
       "      <td>2006-01-04</td>\n",
       "      <td>-5</td>\n",
       "      <td>-13</td>\n",
       "      <td>331</td>\n",
       "      <td>2475</td>\n",
       "      <td>8.916667</td>\n",
       "      <td>11.950000</td>\n",
       "    </tr>\n",
       "    <tr>\n",
       "      <th>4</th>\n",
       "      <td>2006-01-05</td>\n",
       "      <td>-3</td>\n",
       "      <td>-17</td>\n",
       "      <td>321</td>\n",
       "      <td>2475</td>\n",
       "      <td>8.950000</td>\n",
       "      <td>11.883333</td>\n",
       "    </tr>\n",
       "    <tr>\n",
       "      <th>...</th>\n",
       "      <td>...</td>\n",
       "      <td>...</td>\n",
       "      <td>...</td>\n",
       "      <td>...</td>\n",
       "      <td>...</td>\n",
       "      <td>...</td>\n",
       "      <td>...</td>\n",
       "    </tr>\n",
       "    <tr>\n",
       "      <th>999995</th>\n",
       "      <td>2006-02-20</td>\n",
       "      <td>87</td>\n",
       "      <td>86</td>\n",
       "      <td>71</td>\n",
       "      <td>545</td>\n",
       "      <td>19.733334</td>\n",
       "      <td>21.333334</td>\n",
       "    </tr>\n",
       "    <tr>\n",
       "      <th>999996</th>\n",
       "      <td>2006-02-20</td>\n",
       "      <td>-2</td>\n",
       "      <td>0</td>\n",
       "      <td>71</td>\n",
       "      <td>508</td>\n",
       "      <td>8.050000</td>\n",
       "      <td>9.583333</td>\n",
       "    </tr>\n",
       "    <tr>\n",
       "      <th>999997</th>\n",
       "      <td>2006-02-20</td>\n",
       "      <td>33</td>\n",
       "      <td>19</td>\n",
       "      <td>64</td>\n",
       "      <td>508</td>\n",
       "      <td>14.700000</td>\n",
       "      <td>15.983334</td>\n",
       "    </tr>\n",
       "    <tr>\n",
       "      <th>999998</th>\n",
       "      <td>2006-02-20</td>\n",
       "      <td>65</td>\n",
       "      <td>54</td>\n",
       "      <td>65</td>\n",
       "      <td>508</td>\n",
       "      <td>17.633333</td>\n",
       "      <td>18.983334</td>\n",
       "    </tr>\n",
       "    <tr>\n",
       "      <th>999999</th>\n",
       "      <td>2006-02-20</td>\n",
       "      <td>141</td>\n",
       "      <td>135</td>\n",
       "      <td>70</td>\n",
       "      <td>508</td>\n",
       "      <td>1.183333</td>\n",
       "      <td>2.616667</td>\n",
       "    </tr>\n",
       "  </tbody>\n",
       "</table>\n",
       "<p>1000000 rows × 7 columns</p>\n",
       "</div>"
      ],
      "text/plain": [
       "          FL_DATE  DEP_DELAY  ARR_DELAY  AIR_TIME  DISTANCE   DEP_TIME  \\\n",
       "0      2006-01-01          5         19       350      2475   9.083333   \n",
       "1      2006-01-02        167        216       343      2475  11.783334   \n",
       "2      2006-01-03         -7         -2       344      2475   8.883333   \n",
       "3      2006-01-04         -5        -13       331      2475   8.916667   \n",
       "4      2006-01-05         -3        -17       321      2475   8.950000   \n",
       "...           ...        ...        ...       ...       ...        ...   \n",
       "999995 2006-02-20         87         86        71       545  19.733334   \n",
       "999996 2006-02-20         -2          0        71       508   8.050000   \n",
       "999997 2006-02-20         33         19        64       508  14.700000   \n",
       "999998 2006-02-20         65         54        65       508  17.633333   \n",
       "999999 2006-02-20        141        135        70       508   1.183333   \n",
       "\n",
       "         ARR_TIME  \n",
       "0       12.483334  \n",
       "1       15.766666  \n",
       "2       12.133333  \n",
       "3       11.950000  \n",
       "4       11.883333  \n",
       "...           ...  \n",
       "999995  21.333334  \n",
       "999996   9.583333  \n",
       "999997  15.983334  \n",
       "999998  18.983334  \n",
       "999999   2.616667  \n",
       "\n",
       "[1000000 rows x 7 columns]"
      ]
     },
     "execution_count": 10,
     "metadata": {},
     "output_type": "execute_result"
    }
   ],
   "source": [
    "import pandas as pd\n",
    "from fastparquet import ParquetFile\n",
    "\n",
    "def import_parquet(file):\n",
    "    pf = ParquetFile(file)\n",
    "    df = pf.to_pandas()\n",
    "    return df\n",
    "\n",
    "%time import_parquet('/Users/theotime/epitech-projets/2024-2025/piscine-python/documents/Jour 7/flights.parquet')"
   ]
  },
  {
   "cell_type": "code",
   "execution_count": 11,
   "id": "6aa3aa9f",
   "metadata": {},
   "outputs": [
    {
     "data": {
      "application/vnd.jupyter.widget-view+json": {
       "model_id": "816a69aa898649e781bdd757975e380c",
       "version_major": 2,
       "version_minor": 0
      },
      "text/plain": [
       "IntSlider(value=50, description='Slider:', style=SliderStyle(description_width='initial'))"
      ]
     },
     "metadata": {},
     "output_type": "display_data"
    }
   ],
   "source": [
    "import ipywidgets as widgets\n",
    "from IPython.display import display\n",
    "\n",
    "# Création d'un slider\n",
    "slider = widgets.IntSlider(\n",
    "    value=50,  # Valeur initiale\n",
    "    min=0,     # Valeur minimale\n",
    "    max=100,   # Valeur maximale\n",
    "    step=1,    # Incrément\n",
    "    description='Slider:',\n",
    "    style={'description_width': 'initial'}\n",
    ")\n",
    "\n",
    "# Affichage du slider\n",
    "display(slider)"
   ]
  },
  {
   "cell_type": "code",
   "execution_count": 12,
   "id": "0dbab8c1",
   "metadata": {},
   "outputs": [],
   "source": [
    "def show_new_value(value):\n",
    "    print(f\"La nouvelle valeur est: {value}\")\n",
    "\n",
    "slider.observe(show_new_value, names='value')"
   ]
  },
  {
   "cell_type": "code",
   "execution_count": 13,
   "id": "50110b43",
   "metadata": {},
   "outputs": [
    {
     "data": {
      "application/vnd.jupyter.widget-view+json": {
       "model_id": "47e4cbde832d4c32832a490281f1b0ba",
       "version_major": 2,
       "version_minor": 0
      },
      "text/plain": [
       "Button(description='Voici un bouton', style=ButtonStyle())"
      ]
     },
     "metadata": {},
     "output_type": "display_data"
    }
   ],
   "source": [
    "button = widgets.Button(description=\"Voici un bouton\")\n",
    "\n",
    "display(button)"
   ]
  },
  {
   "cell_type": "code",
   "execution_count": 14,
   "id": "8f3bf84e",
   "metadata": {},
   "outputs": [],
   "source": [
    "def is_clicked(b):\n",
    "    print(\"Bouton cliqué!!!!\")\n",
    "\n",
    "button.on_click(is_clicked)"
   ]
  }
 ],
 "metadata": {
  "kernelspec": {
   "display_name": "Python 3 (ipykernel)",
   "language": "python",
   "name": "python3"
  },
  "language_info": {
   "codemirror_mode": {
    "name": "ipython",
    "version": 3
   },
   "file_extension": ".py",
   "mimetype": "text/x-python",
   "name": "python",
   "nbconvert_exporter": "python",
   "pygments_lexer": "ipython3",
   "version": "3.12.1"
  }
 },
 "nbformat": 4,
 "nbformat_minor": 5
}
